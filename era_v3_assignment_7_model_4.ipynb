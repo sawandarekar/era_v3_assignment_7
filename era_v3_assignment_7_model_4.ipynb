{
  "cells": [
    {
      "cell_type": "markdown",
      "metadata": {
        "colab_type": "text",
        "id": "view-in-github"
      },
      "source": [
        "<a href=\"https://colab.research.google.com/github/sawandarekar/era_v3_assignment_7/blob/main/era_v3_assignment_7_model_3.ipynb\" target=\"_parent\"><img src=\"https://colab.research.google.com/assets/colab-badge.svg\" alt=\"Open In Colab\"/></a>"
      ]
    },
    {
      "cell_type": "markdown",
      "metadata": {
        "id": "bEZ7vtdFMvEV"
      },
      "source": [
        "## Target:\n",
        "- Reduce parameters bellow 8k count\n",
        "- Achive test accuracy > 99%\n",
        "- Limit the 15 epoch\n",
        "\n",
        "## Result:\n",
        "- Parameters: 7,616\n",
        "- Best Training Accuracy: 99.34%\n",
        "- Best Test Accuracy: 98.94%\n",
        "\n",
        "## Analysis:\n",
        "- model trained with 7,616 parameters\n",
        "- Added Batch Normalization, MaxPool2d, skip and dropout = 0.25\n",
        "- Model test accuracy achieved 99.34% on 7th epoch\n",
        "- Model is Good fitting from 14th epoch (training accuracy: 98.94% test accuracy: 99.29%)"
      ]
    },
    {
      "cell_type": "code",
      "execution_count": 209,
      "metadata": {
        "id": "S2KBPDMAZ-QH"
      },
      "outputs": [],
      "source": [
        "from __future__ import print_function\n",
        "import torch\n",
        "import torch.nn as nn\n",
        "import torch.nn.functional as F\n",
        "import torch.optim as optim\n",
        "from torchvision import datasets, transforms"
      ]
    },
    {
      "cell_type": "code",
      "execution_count": 210,
      "metadata": {
        "id": "OJM3OliKaR11"
      },
      "outputs": [],
      "source": [
        "# Train Phase transformations\n",
        "train_transforms = transforms.Compose([\n",
        "                                      #  transforms.Resize((28, 28)),\n",
        "                                      #  transforms.ColorJitter(brightness=0.10, contrast=0.1, saturation=0.10, hue=0.1),\n",
        "                                       transforms.RandomRotation((-7.0, 7.0), fill=(1,)),\n",
        "                                       transforms.ToTensor(),\n",
        "                                       transforms.Normalize((0.1307,), (0.3081,)) # The mean and std have to be sequences (e.g., tuples), therefore you should add a comma after the values.\n",
        "                                       # Note the difference between (0.1307) and (0.1307,)\n",
        "                                       ])\n",
        "\n",
        "# Test Phase transformations\n",
        "test_transforms = transforms.Compose([\n",
        "                                      #  transforms.Resize((28, 28)),\n",
        "                                      #  transforms.ColorJitter(brightness=0.10, contrast=0.1, saturation=0.10, hue=0.1),\n",
        "                                       transforms.ToTensor(),\n",
        "                                       transforms.Normalize((0.1307,), (0.3081,))\n",
        "                                       ])"
      ]
    },
    {
      "cell_type": "code",
      "execution_count": 211,
      "metadata": {
        "id": "vVoplgl9aiY_"
      },
      "outputs": [],
      "source": [
        "train = datasets.MNIST('./data', train=True, download=True, transform=train_transforms)\n",
        "test = datasets.MNIST('./data', train=False, download=True, transform=test_transforms)"
      ]
    },
    {
      "cell_type": "code",
      "execution_count": 212,
      "metadata": {
        "colab": {
          "base_uri": "https://localhost:8080/"
        },
        "id": "ma6FzGCCaqOq",
        "outputId": "9872fdd6-892b-437f-fd3e-f95dfb25c821"
      },
      "outputs": [
        {
          "name": "stdout",
          "output_type": "stream",
          "text": [
            "CUDA Available? False\n"
          ]
        }
      ],
      "source": [
        "SEED = 1\n",
        "\n",
        "# CUDA?\n",
        "cuda = torch.cuda.is_available()\n",
        "print(\"CUDA Available?\", cuda)\n",
        "\n",
        "# For reproducibility\n",
        "torch.manual_seed(SEED)\n",
        "\n",
        "if cuda:\n",
        "    torch.cuda.manual_seed(SEED)\n",
        "\n",
        "# dataloader arguments - something you'll fetch these from cmdprmt\n",
        "dataloader_args = dict(shuffle=True, batch_size=128, num_workers=4, pin_memory=True) if cuda else dict(shuffle=True, batch_size=64)\n",
        "\n",
        "# train dataloader\n",
        "train_loader = torch.utils.data.DataLoader(train, **dataloader_args)\n",
        "\n",
        "# test dataloader\n",
        "test_loader = torch.utils.data.DataLoader(test, **dataloader_args)"
      ]
    },
    {
      "cell_type": "markdown",
      "metadata": {
        "id": "L6gdYdZ5bXvs"
      },
      "source": [
        "## Find mean and std values"
      ]
    },
    {
      "cell_type": "code",
      "execution_count": 213,
      "metadata": {
        "colab": {
          "base_uri": "https://localhost:8080/"
        },
        "id": "9e8_EtRibXDH",
        "outputId": "b45a3d83-c84f-4d6b-a382-56680212e900"
      },
      "outputs": [
        {
          "name": "stdout",
          "output_type": "stream",
          "text": [
            "[Train]\n",
            " - Numpy Shape: (60000, 28, 28)\n",
            " - Tensor Shape: torch.Size([60000, 28, 28])\n",
            " - min: tensor(0.)\n",
            " - max: tensor(1.)\n",
            " - mean: tensor(0.1307)\n",
            " - std: tensor(0.3081)\n",
            " - var: tensor(0.0949)\n"
          ]
        }
      ],
      "source": [
        "# simple transform\n",
        "simple_transforms = transforms.Compose([\n",
        "                                      #  transforms.Resize((28, 28)),\n",
        "                                      #  transforms.ColorJitter(brightness=0.10, contrast=0.1, saturation=0.10, hue=0.1),\n",
        "                                       transforms.ToTensor(),\n",
        "                                      #  transforms.Normalize((0.1307,), (0.3081,)) # The mean and std have to be sequences (e.g., tuples), therefore you should add a comma after the values.\n",
        "                                       # Note the difference between (0.1307) and (0.1307,)\n",
        "                                       ])\n",
        "exp = datasets.MNIST('./data', train=True, download=True, transform=simple_transforms)\n",
        "exp_data = exp.train_data\n",
        "exp_data = exp.transform(exp_data.numpy())\n",
        "\n",
        "print('[Train]')\n",
        "print(' - Numpy Shape:', exp.train_data.cpu().numpy().shape)\n",
        "print(' - Tensor Shape:', exp.train_data.size())\n",
        "print(' - min:', torch.min(exp_data))\n",
        "print(' - max:', torch.max(exp_data))\n",
        "print(' - mean:', torch.mean(exp_data))\n",
        "print(' - std:', torch.std(exp_data))\n",
        "print(' - var:', torch.var(exp_data))"
      ]
    },
    {
      "cell_type": "markdown",
      "metadata": {
        "id": "2cmQMNMTbiHk"
      },
      "source": [
        "## Model Defination"
      ]
    },
    {
      "cell_type": "code",
      "execution_count": 223,
      "metadata": {
        "id": "gp6vVerTbkR-"
      },
      "outputs": [],
      "source": [
        "class Net(nn.Module):\n",
        "    def __init__(self):\n",
        "        super(Net, self).__init__()\n",
        "\n",
        "        drop_out_value = 0.25\n",
        "\n",
        "        # Input Block\n",
        "        self.convblock1 = nn.Sequential(\n",
        "            nn.Conv2d(in_channels=1, out_channels=8, kernel_size=(3, 3), padding=0, bias=False),\n",
        "            nn.ReLU(),\n",
        "            nn.BatchNorm2d(8),# affine=False),\n",
        "            #nn.Dropout(drop_out_value)\n",
        "        ) # output_size =    RF=\n",
        "\n",
        "        # CONVOLUTION BLOCK 1\n",
        "        self.convblock2 = nn.Sequential(\n",
        "            nn.Conv2d(in_channels=8, out_channels=16, kernel_size=(3, 3), padding=0, bias=False),\n",
        "            nn.ReLU(),\n",
        "            nn.BatchNorm2d(16),# affine=False),\n",
        "            #nn.Dropout(drop_out_value)\n",
        "        ) # output_size =   RF=\n",
        "        \n",
        "        self.skip1 = nn.Conv2d(in_channels=16, out_channels=16, kernel_size=(1, 1), padding=0, bias=False)\n",
        "\n",
        "        self.convblock3 = nn.Sequential(\n",
        "            nn.Conv2d(in_channels=16, out_channels=16, kernel_size=(3, 3), padding=0, bias=False),\n",
        "            nn.ReLU(),\n",
        "            nn.BatchNorm2d(16),# affine=False),\n",
        "            #nn.Dropout(drop_out_value)\n",
        "        ) # output_size =    RF=\n",
        "\n",
        "        # TRANSITION BLOCK 1\n",
        "        self.pool1 = nn.MaxPool2d(kernel_size=2, stride=2) # output_size =   \n",
        "\n",
        "        self.convblock4 = nn.Sequential(\n",
        "            nn.Conv2d(in_channels=16, out_channels=12, kernel_size=(3, 3), padding=0, bias=False),\n",
        "            nn.ReLU(),\n",
        "            nn.BatchNorm2d(12),# affine=False),\n",
        "            #nn.Dropout(drop_out_value)\n",
        "        ) # output_size =    RF=\n",
        "\n",
        "        # OUTPUT BLOCK\n",
        "        self.convblock7 = nn.Sequential(\n",
        "            nn.Conv2d(in_channels=12, out_channels=10, kernel_size=(3, 3), padding=0, bias=False),\n",
        "            nn.ReLU(),\n",
        "            nn.BatchNorm2d(10),# affine=False),\n",
        "            #nn.Dropout(drop_out_value)\n",
        "        ) # output_size =   RF=\n",
        "\n",
        "\n",
        "        self.convblock8 = nn.Sequential(\n",
        "            nn.Conv2d(in_channels=10, out_channels=10, kernel_size=(3, 3), padding=0, bias=False),\n",
        "            # nn.ReLU() NEVER!\n",
        "        ) # output_size =   RF=\n",
        "\n",
        "        self.gap = nn.Sequential(\n",
        "            nn.AvgPool2d(kernel_size=5) \n",
        "        )\n",
        "\n",
        "        self.dropout = nn.Dropout(drop_out_value)\n",
        "\n",
        "        \n",
        "        self.skip2 = nn.Conv2d(in_channels=16, out_channels=16, kernel_size=(3, 3), padding=0, bias=False)\n",
        "\n",
        "\n",
        "\n",
        "    def forward(self, x):\n",
        "        x = self.convblock1(x)\n",
        "        x = self.convblock2(x)\n",
        "        x = self.skip1(x)\n",
        "        x = self.convblock3(x)\n",
        "        x = self.dropout(x)\n",
        "        x = self.pool1(x)\n",
        "        x = self.convblock4(x)\n",
        "        #x = self.skip2(x)\n",
        "        x = self.convblock7(x)\n",
        "        x = self.dropout(x)\n",
        "        x = self.convblock8(x)\n",
        "        x = self.gap(x)\n",
        "\n",
        "        x = x.view(-1, 10)\n",
        "\n",
        "        return F.log_softmax(x, dim=-1)\n",
        "\n"
      ]
    },
    {
      "cell_type": "markdown",
      "metadata": {
        "id": "dNnB8U6hburs"
      },
      "source": [
        "## Model Parameters Deatils"
      ]
    },
    {
      "cell_type": "code",
      "execution_count": 224,
      "metadata": {
        "colab": {
          "base_uri": "https://localhost:8080/"
        },
        "id": "e3n4nDQ1bxh3",
        "outputId": "3bda1678-1135-4011-98c6-923eddc8fccf"
      },
      "outputs": [
        {
          "name": "stdout",
          "output_type": "stream",
          "text": [
            "Defaulting to user installation because normal site-packages is not writeable\n",
            "Requirement already satisfied: torchsummary in /Users/sawan.darekar/Library/Python/3.9/lib/python/site-packages (1.5.1)\n",
            "cpu\n",
            "----------------------------------------------------------------\n",
            "        Layer (type)               Output Shape         Param #\n",
            "================================================================\n",
            "            Conv2d-1            [-1, 8, 26, 26]              72\n",
            "              ReLU-2            [-1, 8, 26, 26]               0\n",
            "       BatchNorm2d-3            [-1, 8, 26, 26]              16\n",
            "            Conv2d-4           [-1, 16, 24, 24]           1,152\n",
            "              ReLU-5           [-1, 16, 24, 24]               0\n",
            "       BatchNorm2d-6           [-1, 16, 24, 24]              32\n",
            "            Conv2d-7           [-1, 16, 24, 24]             256\n",
            "            Conv2d-8           [-1, 16, 22, 22]           2,304\n",
            "              ReLU-9           [-1, 16, 22, 22]               0\n",
            "      BatchNorm2d-10           [-1, 16, 22, 22]              32\n",
            "          Dropout-11           [-1, 16, 22, 22]               0\n",
            "        MaxPool2d-12           [-1, 16, 11, 11]               0\n",
            "           Conv2d-13             [-1, 12, 9, 9]           1,728\n",
            "             ReLU-14             [-1, 12, 9, 9]               0\n",
            "      BatchNorm2d-15             [-1, 12, 9, 9]              24\n",
            "           Conv2d-16             [-1, 10, 7, 7]           1,080\n",
            "             ReLU-17             [-1, 10, 7, 7]               0\n",
            "      BatchNorm2d-18             [-1, 10, 7, 7]              20\n",
            "          Dropout-19             [-1, 10, 7, 7]               0\n",
            "           Conv2d-20             [-1, 10, 5, 5]             900\n",
            "        AvgPool2d-21             [-1, 10, 1, 1]               0\n",
            "================================================================\n",
            "Total params: 7,616\n",
            "Trainable params: 7,616\n",
            "Non-trainable params: 0\n",
            "----------------------------------------------------------------\n",
            "Input size (MB): 0.00\n",
            "Forward/backward pass size (MB): 0.70\n",
            "Params size (MB): 0.03\n",
            "Estimated Total Size (MB): 0.73\n",
            "----------------------------------------------------------------\n"
          ]
        }
      ],
      "source": [
        "!pip install torchsummary\n",
        "from torchsummary import summary\n",
        "use_cuda = torch.cuda.is_available()\n",
        "device = torch.device(\"cuda\" if use_cuda else \"cpu\")\n",
        "print(device)\n",
        "model = Net().to(device)\n",
        "summary(model, input_size=(1, 28, 28))"
      ]
    },
    {
      "cell_type": "markdown",
      "metadata": {
        "id": "el9sKDU6b2zH"
      },
      "source": [
        "## Training valiating"
      ]
    },
    {
      "cell_type": "code",
      "execution_count": 225,
      "metadata": {
        "id": "Q8s-o6Lyb2S8"
      },
      "outputs": [],
      "source": [
        "from tqdm import tqdm\n",
        "\n",
        "train_losses = []\n",
        "test_losses = []\n",
        "train_acc = []\n",
        "test_acc = []\n",
        "\n",
        "def train(model, device, train_loader, optimizer, epoch):\n",
        "  model.train()\n",
        "  pbar = tqdm(train_loader)\n",
        "  correct = 0\n",
        "  processed = 0\n",
        "  for batch_idx, (data, target) in enumerate(pbar):\n",
        "    # get samples\n",
        "    data, target = data.to(device), target.to(device)\n",
        "\n",
        "    # Init\n",
        "    optimizer.zero_grad()\n",
        "    # In PyTorch, we need to set the gradients to zero before starting to do backpropragation because PyTorch accumulates the gradients on subsequent backward passes.\n",
        "    # Because of this, when you start your training loop, ideally you should zero out the gradients so that you do the parameter update correctly.\n",
        "\n",
        "    # Predict\n",
        "    y_pred = model(data)\n",
        "\n",
        "    # Calculate loss\n",
        "    loss = F.nll_loss(y_pred, target)\n",
        "    train_losses.append(loss)\n",
        "\n",
        "    # Backpropagation\n",
        "    loss.backward()\n",
        "    optimizer.step()\n",
        "\n",
        "    # Update pbar-tqdm\n",
        "\n",
        "    pred = y_pred.argmax(dim=1, keepdim=True)  # get the index of the max log-probability\n",
        "    correct += pred.eq(target.view_as(pred)).sum().item()\n",
        "    processed += len(data)\n",
        "\n",
        "    pbar.set_description(desc= f'EPOCH:{epoch} Loss={loss.item()} Batch_id={batch_idx} Accuracy={100*correct/processed:0.2f} LR={optimizer.param_groups[0][\"lr\"]}')\n",
        "    train_acc.append(100*correct/processed)\n",
        "\n",
        "def test(model, device, test_loader):\n",
        "    model.eval()\n",
        "    test_loss = 0\n",
        "    correct = 0\n",
        "    with torch.no_grad():\n",
        "        for data, target in test_loader:\n",
        "            data, target = data.to(device), target.to(device)\n",
        "            output = model(data)\n",
        "            test_loss += F.nll_loss(output, target, reduction='sum').item()  # sum up batch loss\n",
        "            pred = output.argmax(dim=1, keepdim=True)  # get the index of the max log-probability\n",
        "            correct += pred.eq(target.view_as(pred)).sum().item()\n",
        "\n",
        "    test_loss /= len(test_loader.dataset)\n",
        "    test_losses.append(test_loss)\n",
        "\n",
        "    print('\\nTest set: Average loss: {:.4f}, Accuracy: {}/{} ({:.2f}%)\\n'.format(\n",
        "        test_loss, correct, len(test_loader.dataset),\n",
        "        100. * correct / len(test_loader.dataset)))\n",
        "\n",
        "    test_acc.append(100. * correct / len(test_loader.dataset))"
      ]
    },
    {
      "cell_type": "markdown",
      "metadata": {
        "id": "9ULdzZKWcRBo"
      },
      "source": [
        "## Training and testing model for each EPOCH"
      ]
    },
    {
      "cell_type": "code",
      "execution_count": 226,
      "metadata": {
        "colab": {
          "base_uri": "https://localhost:8080/",
          "height": 507
        },
        "id": "vg0w4e6OcQtw",
        "outputId": "74e17bed-b38e-4cfb-a1f8-5c7e6cc6523d"
      },
      "outputs": [
        {
          "name": "stderr",
          "output_type": "stream",
          "text": [
            "EPOCH:0 Loss=0.2772088944911957 Batch_id=937 Accuracy=93.22 LR=0.01: 100%|██████████| 938/938 [00:47<00:00, 19.75it/s]  \n"
          ]
        },
        {
          "name": "stdout",
          "output_type": "stream",
          "text": [
            "\n",
            "Test set: Average loss: 0.0917, Accuracy: 9722/10000 (97.22%)\n",
            "\n"
          ]
        },
        {
          "name": "stderr",
          "output_type": "stream",
          "text": [
            "EPOCH:1 Loss=0.15196168422698975 Batch_id=937 Accuracy=97.58 LR=0.01: 100%|██████████| 938/938 [00:48<00:00, 19.20it/s]  \n"
          ]
        },
        {
          "name": "stdout",
          "output_type": "stream",
          "text": [
            "\n",
            "Test set: Average loss: 0.0536, Accuracy: 9816/10000 (98.16%)\n",
            "\n"
          ]
        },
        {
          "name": "stderr",
          "output_type": "stream",
          "text": [
            "EPOCH:2 Loss=0.047943100333213806 Batch_id=937 Accuracy=98.00 LR=0.01: 100%|██████████| 938/938 [00:47<00:00, 19.87it/s] \n"
          ]
        },
        {
          "name": "stdout",
          "output_type": "stream",
          "text": [
            "\n",
            "Test set: Average loss: 0.0491, Accuracy: 9848/10000 (98.48%)\n",
            "\n"
          ]
        },
        {
          "name": "stderr",
          "output_type": "stream",
          "text": [
            "EPOCH:3 Loss=0.13433583080768585 Batch_id=937 Accuracy=98.24 LR=0.01: 100%|██████████| 938/938 [00:47<00:00, 19.69it/s]  \n"
          ]
        },
        {
          "name": "stdout",
          "output_type": "stream",
          "text": [
            "\n",
            "Test set: Average loss: 0.0337, Accuracy: 9884/10000 (98.84%)\n",
            "\n"
          ]
        },
        {
          "name": "stderr",
          "output_type": "stream",
          "text": [
            "EPOCH:4 Loss=0.02332298457622528 Batch_id=937 Accuracy=98.43 LR=0.01: 100%|██████████| 938/938 [00:47<00:00, 19.76it/s]  \n"
          ]
        },
        {
          "name": "stdout",
          "output_type": "stream",
          "text": [
            "\n",
            "Test set: Average loss: 0.0332, Accuracy: 9890/10000 (98.90%)\n",
            "\n"
          ]
        },
        {
          "name": "stderr",
          "output_type": "stream",
          "text": [
            "EPOCH:5 Loss=0.10475379973649979 Batch_id=937 Accuracy=98.48 LR=0.01: 100%|██████████| 938/938 [00:47<00:00, 19.77it/s]  \n"
          ]
        },
        {
          "name": "stdout",
          "output_type": "stream",
          "text": [
            "\n",
            "Test set: Average loss: 0.0288, Accuracy: 9897/10000 (98.97%)\n",
            "\n"
          ]
        },
        {
          "name": "stderr",
          "output_type": "stream",
          "text": [
            "EPOCH:6 Loss=0.09171748161315918 Batch_id=937 Accuracy=98.83 LR=0.001: 100%|██████████| 938/938 [00:47<00:00, 19.74it/s]  \n"
          ]
        },
        {
          "name": "stdout",
          "output_type": "stream",
          "text": [
            "\n",
            "Test set: Average loss: 0.0255, Accuracy: 9916/10000 (99.16%)\n",
            "\n"
          ]
        },
        {
          "name": "stderr",
          "output_type": "stream",
          "text": [
            "EPOCH:7 Loss=0.048325102776288986 Batch_id=937 Accuracy=98.94 LR=0.001: 100%|██████████| 938/938 [00:48<00:00, 19.53it/s] \n"
          ]
        },
        {
          "name": "stdout",
          "output_type": "stream",
          "text": [
            "\n",
            "Test set: Average loss: 0.0225, Accuracy: 9934/10000 (99.34%)\n",
            "\n"
          ]
        },
        {
          "name": "stderr",
          "output_type": "stream",
          "text": [
            "EPOCH:8 Loss=0.0345466248691082 Batch_id=937 Accuracy=98.89 LR=0.001: 100%|██████████| 938/938 [00:46<00:00, 20.05it/s]   \n"
          ]
        },
        {
          "name": "stdout",
          "output_type": "stream",
          "text": [
            "\n",
            "Test set: Average loss: 0.0228, Accuracy: 9928/10000 (99.28%)\n",
            "\n"
          ]
        },
        {
          "name": "stderr",
          "output_type": "stream",
          "text": [
            "EPOCH:9 Loss=0.05782951042056084 Batch_id=937 Accuracy=98.90 LR=0.001: 100%|██████████| 938/938 [00:46<00:00, 20.04it/s]  \n"
          ]
        },
        {
          "name": "stdout",
          "output_type": "stream",
          "text": [
            "\n",
            "Test set: Average loss: 0.0225, Accuracy: 9931/10000 (99.31%)\n",
            "\n"
          ]
        },
        {
          "name": "stderr",
          "output_type": "stream",
          "text": [
            "EPOCH:10 Loss=0.013099533505737782 Batch_id=937 Accuracy=98.99 LR=0.001: 100%|██████████| 938/938 [00:46<00:00, 19.98it/s] \n"
          ]
        },
        {
          "name": "stdout",
          "output_type": "stream",
          "text": [
            "\n",
            "Test set: Average loss: 0.0233, Accuracy: 9924/10000 (99.24%)\n",
            "\n"
          ]
        },
        {
          "name": "stderr",
          "output_type": "stream",
          "text": [
            "EPOCH:11 Loss=0.07027030736207962 Batch_id=937 Accuracy=98.95 LR=0.001: 100%|██████████| 938/938 [00:46<00:00, 20.19it/s]  \n"
          ]
        },
        {
          "name": "stdout",
          "output_type": "stream",
          "text": [
            "\n",
            "Test set: Average loss: 0.0234, Accuracy: 9923/10000 (99.23%)\n",
            "\n"
          ]
        },
        {
          "name": "stderr",
          "output_type": "stream",
          "text": [
            "EPOCH:12 Loss=0.014642177149653435 Batch_id=937 Accuracy=98.96 LR=0.0001: 100%|██████████| 938/938 [00:45<00:00, 20.42it/s] \n"
          ]
        },
        {
          "name": "stdout",
          "output_type": "stream",
          "text": [
            "\n",
            "Test set: Average loss: 0.0228, Accuracy: 9926/10000 (99.26%)\n",
            "\n"
          ]
        },
        {
          "name": "stderr",
          "output_type": "stream",
          "text": [
            "EPOCH:13 Loss=0.016999501734972 Batch_id=937 Accuracy=99.00 LR=0.0001: 100%|██████████| 938/938 [00:46<00:00, 20.23it/s]    \n"
          ]
        },
        {
          "name": "stdout",
          "output_type": "stream",
          "text": [
            "\n",
            "Test set: Average loss: 0.0235, Accuracy: 9926/10000 (99.26%)\n",
            "\n"
          ]
        },
        {
          "name": "stderr",
          "output_type": "stream",
          "text": [
            "EPOCH:14 Loss=0.0016753156669437885 Batch_id=937 Accuracy=98.94 LR=0.0001: 100%|██████████| 938/938 [00:48<00:00, 19.41it/s]\n"
          ]
        },
        {
          "name": "stdout",
          "output_type": "stream",
          "text": [
            "\n",
            "Test set: Average loss: 0.0221, Accuracy: 9929/10000 (99.29%)\n",
            "\n"
          ]
        }
      ],
      "source": [
        "from torch.optim.lr_scheduler import StepLR\n",
        "\n",
        "model =  Net().to(device)\n",
        "optimizer = optim.SGD(model.parameters(), lr=0.01, momentum=0.9)\n",
        "scheduler = StepLR(optimizer, step_size=6, gamma=0.1)\n",
        "\n",
        "EPOCHS = 15\n",
        "for epoch in range(EPOCHS):\n",
        "    train(model, device, train_loader, optimizer, epoch)\n",
        "    scheduler.step()\n",
        "    test(model, device, test_loader)"
      ]
    },
    {
      "cell_type": "code",
      "execution_count": 227,
      "metadata": {
        "id": "sLYelz0ITeH8"
      },
      "outputs": [
        {
          "data": {
            "text/plain": [
              "Text(0.5, 1.0, 'Test Accuracy')"
            ]
          },
          "execution_count": 227,
          "metadata": {},
          "output_type": "execute_result"
        },
        {
          "data": {
            "image/png": "[encoded data removed]",
            "text/plain": [
              "<Figure size 1500x1000 with 4 Axes>"
            ]
          },
          "metadata": {},
          "output_type": "display_data"
        }
      ],
      "source": [
        "%matplotlib inline\n",
        "import matplotlib.pyplot as plt\n",
        "\n",
        "fig, axs = plt.subplots(2,2,figsize=(15,10))\n",
        "# axs[0, 0].plot(train_losses)\n",
        "axs[0, 0].plot([t.cpu().item() for t in train_losses])\n",
        "axs[0, 0].set_title(\"Training Loss\")\n",
        "axs[1, 0].plot(train_acc)\n",
        "axs[1, 0].set_title(\"Training Accuracy\")\n",
        "axs[0, 1].plot(test_losses)\n",
        "axs[0, 1].set_title(\"Test Loss\")\n",
        "axs[1, 1].plot(test_acc)\n",
        "axs[1, 1].set_title(\"Test Accuracy\")"
      ]
    }
  ],
  "metadata": {
    "colab": {
      "authorship_tag": "ABX9TyPgWhrfdpqUMtcKz1qt6St5",
      "include_colab_link": true,
      "provenance": []
    },
    "kernelspec": {
      "display_name": "Python 3",
      "name": "python3"
    },
    "language_info": {
      "codemirror_mode": {
        "name": "ipython",
        "version": 3
      },
      "file_extension": ".py",
      "mimetype": "text/x-python",
      "name": "python",
      "nbconvert_exporter": "python",
      "pygments_lexer": "ipython3",
      "version": "3.9.6"
    }
  },
  "nbformat": 4,
  "nbformat_minor": 0
}
